{
 "cells": [
  {
   "cell_type": "code",
   "execution_count": 1,
   "metadata": {},
   "outputs": [
    {
     "name": "stderr",
     "output_type": "stream",
     "text": [
      "C:\\Users\\HP\\AppData\\Roaming\\Python\\Python312\\site-packages\\tqdm\\auto.py:21: TqdmWarning: IProgress not found. Please update jupyter and ipywidgets. See https://ipywidgets.readthedocs.io/en/stable/user_install.html\n",
      "  from .autonotebook import tqdm as notebook_tqdm\n",
      "[nltk_data] Downloading package punkt to\n",
      "[nltk_data]     C:\\Users\\HP\\AppData\\Roaming\\nltk_data...\n",
      "[nltk_data]   Package punkt is already up-to-date!\n",
      "[nltk_data] Downloading package stopwords to\n",
      "[nltk_data]     C:\\Users\\HP\\AppData\\Roaming\\nltk_data...\n",
      "[nltk_data]   Package stopwords is already up-to-date!\n"
     ]
    },
    {
     "name": "stdout",
     "output_type": "stream",
     "text": [
      "Training TF-IDF Model...\n",
      "✅ Models saved successfully! Use them in `app.py`.\n"
     ]
    }
   ],
   "source": [
    "import pickle\n",
    "import os\n",
    "import re\n",
    "import nltk\n",
    "import spacy\n",
    "import torch\n",
    "import pandas as pd\n",
    "from nltk.corpus import stopwords\n",
    "from nltk.tokenize import word_tokenize\n",
    "from sentence_transformers import SentenceTransformer\n",
    "from sklearn.feature_extraction.text import TfidfVectorizer\n",
    "from sklearn.metrics.pairwise import cosine_similarity\n",
    "\n",
    "# Download necessary NLP resources\n",
    "nltk.download('punkt')\n",
    "nltk.download('stopwords')\n",
    "\n",
    "# Load Pre-trained BERT Model\n",
    "bert_model = SentenceTransformer(\"all-MiniLM-L6-v2\")\n",
    "\n",
    "# Load NER Model\n",
    "nlp = spacy.load(\"en_core_web_sm\")\n",
    "\n",
    "# Function to Preprocess Text\n",
    "def preprocess(text):\n",
    "    text = text.lower()\n",
    "    text = re.sub(r\"\\W\", \" \", text)\n",
    "    text = \" \".join([word for word in text.split() if word not in stopwords.words(\"english\")])\n",
    "    return text\n",
    "\n",
    "# Function to Train TF-IDF Model\n",
    "def train_tfidf(texts):\n",
    "    vectorizer = TfidfVectorizer(stop_words=\"english\")\n",
    "    vectorizer.fit(texts)\n",
    "    return vectorizer\n",
    "\n",
    "# Load resumes from files (for testing)\n",
    "def load_resumes(directory=\"sample_resumes/\"):\n",
    "    resumes = []\n",
    "    for filename in os.listdir(directory):\n",
    "        file_path = os.path.join(directory, filename)\n",
    "        with open(file_path, \"r\", encoding=\"utf-8\", errors=\"ignore\") as file:\n",
    "            resumes.append(file.read())\n",
    "    return resumes\n",
    "\n",
    "# Create models directory if not exists\n",
    "os.makedirs(\"models\", exist_ok=True)\n",
    "\n",
    "# Training the TF-IDF Model\n",
    "print(\"Training TF-IDF Model...\")\n",
    "resumes = load_resumes()\n",
    "vectorizer = train_tfidf(resumes)\n",
    "\n",
    "# Saving Models\n",
    "pickle.dump(vectorizer, open(\"models/vectorizer.pkl\", \"wb\"))\n",
    "pickle.dump(bert_model, open(\"models/bert_model.pkl\", \"wb\"))\n",
    "\n",
    "print(\"✅ Models saved successfully! Use them in `app.py`.\")\n"
   ]
  }
 ],
 "metadata": {
  "kernelspec": {
   "display_name": "Python 3",
   "language": "python",
   "name": "python3"
  },
  "language_info": {
   "codemirror_mode": {
    "name": "ipython",
    "version": 3
   },
   "file_extension": ".py",
   "mimetype": "text/x-python",
   "name": "python",
   "nbconvert_exporter": "python",
   "pygments_lexer": "ipython3",
   "version": "3.12.1"
  }
 },
 "nbformat": 4,
 "nbformat_minor": 2
}
